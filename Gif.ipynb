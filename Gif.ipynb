{
 "cells": [
  {
   "cell_type": "code",
   "execution_count": 1,
   "metadata": {},
   "outputs": [
    {
     "name": "stdout",
     "output_type": "stream",
     "text": [
      "['C:/Users/eivhe/OneDrive/NTNU/Prosjekt- og masteroppgave/Measurements/24.04.04_IB2403.1/6.7/Run 0\\\\Image Max.png', 'C:/Users/eivhe/OneDrive/NTNU/Prosjekt- og masteroppgave/Measurements/24.04.04_IB2403.1/6.7/Run 0\\\\Image Min.png', 'C:/Users/eivhe/OneDrive/NTNU/Prosjekt- og masteroppgave/Measurements/24.04.04_IB2403.1/6.7/Run 0\\\\Image Nuc.png', 'C:/Users/eivhe/OneDrive/NTNU/Prosjekt- og masteroppgave/Measurements/24.04.04_IB2403.1/6.7/Run 0\\\\Image.png', 'C:/Users/eivhe/OneDrive/NTNU/Prosjekt- og masteroppgave/Measurements/24.04.04_IB2403.1/6.7/Run 0\\\\Image_0001.png', 'C:/Users/eivhe/OneDrive/NTNU/Prosjekt- og masteroppgave/Measurements/24.04.04_IB2403.1/6.7/Run 0\\\\Image_0002.png', 'C:/Users/eivhe/OneDrive/NTNU/Prosjekt- og masteroppgave/Measurements/24.04.04_IB2403.1/6.7/Run 0\\\\Image_0003.png', 'C:/Users/eivhe/OneDrive/NTNU/Prosjekt- og masteroppgave/Measurements/24.04.04_IB2403.1/6.7/Run 0\\\\Image_0004.png', 'C:/Users/eivhe/OneDrive/NTNU/Prosjekt- og masteroppgave/Measurements/24.04.04_IB2403.1/6.7/Run 0\\\\Image_0005.png', 'C:/Users/eivhe/OneDrive/NTNU/Prosjekt- og masteroppgave/Measurements/24.04.04_IB2403.1/6.7/Run 0\\\\Image_0006.png', 'C:/Users/eivhe/OneDrive/NTNU/Prosjekt- og masteroppgave/Measurements/24.04.04_IB2403.1/6.7/Run 0\\\\Image_0007.png', 'C:/Users/eivhe/OneDrive/NTNU/Prosjekt- og masteroppgave/Measurements/24.04.04_IB2403.1/6.7/Run 0\\\\Image_0008.png', 'C:/Users/eivhe/OneDrive/NTNU/Prosjekt- og masteroppgave/Measurements/24.04.04_IB2403.1/6.7/Run 0\\\\Image_0009.png', 'C:/Users/eivhe/OneDrive/NTNU/Prosjekt- og masteroppgave/Measurements/24.04.04_IB2403.1/6.7/Run 0\\\\Image_0010.png', 'C:/Users/eivhe/OneDrive/NTNU/Prosjekt- og masteroppgave/Measurements/24.04.04_IB2403.1/6.7/Run 0\\\\Image_0011.png', 'C:/Users/eivhe/OneDrive/NTNU/Prosjekt- og masteroppgave/Measurements/24.04.04_IB2403.1/6.7/Run 0\\\\Image_0012.png', 'C:/Users/eivhe/OneDrive/NTNU/Prosjekt- og masteroppgave/Measurements/24.04.04_IB2403.1/6.7/Run 0\\\\Image_0013.png', 'C:/Users/eivhe/OneDrive/NTNU/Prosjekt- og masteroppgave/Measurements/24.04.04_IB2403.1/6.7/Run 0\\\\Image_0014.png', 'C:/Users/eivhe/OneDrive/NTNU/Prosjekt- og masteroppgave/Measurements/24.04.04_IB2403.1/6.7/Run 0\\\\Image_0015.png', 'C:/Users/eivhe/OneDrive/NTNU/Prosjekt- og masteroppgave/Measurements/24.04.04_IB2403.1/6.7/Run 0\\\\Image_0016.png', 'C:/Users/eivhe/OneDrive/NTNU/Prosjekt- og masteroppgave/Measurements/24.04.04_IB2403.1/6.7/Run 0\\\\Image_0017.png', 'C:/Users/eivhe/OneDrive/NTNU/Prosjekt- og masteroppgave/Measurements/24.04.04_IB2403.1/6.7/Run 0\\\\Image_0018.png', 'C:/Users/eivhe/OneDrive/NTNU/Prosjekt- og masteroppgave/Measurements/24.04.04_IB2403.1/6.7/Run 0\\\\Image_0019.png']\n"
     ]
    },
    {
     "name": "stderr",
     "output_type": "stream",
     "text": [
      "MovieWriter ffmpeg unavailable; using Pillow instead.\n"
     ]
    }
   ],
   "source": [
    "import glob\n",
    "import os\n",
    "from matplotlib import image as img\n",
    "from matplotlib import pyplot as plt\n",
    "import matplotlib.animation as animation\n",
    "from matplotlib.patches import Rectangle\n",
    "import numpy as np\n",
    "import scipy.ndimage.measurements as ndi\n",
    "import seaborn as sns\n",
    "from cycler import cycler\n",
    "\n",
    "image_folder_path = \"C:/Users/eivhe/OneDrive/NTNU/Prosjekt- og masteroppgave/Measurements/24.04.04_IB2403.1/\"\n",
    "\n",
    "#image_folder_path += \"7.7/Run 5 gif/*.png\"\n",
    "#plot_path = \"C:/Users/eivhe/OneDrive/NTNU/Prosjekt- og masteroppgave/Measurements/24.04.04_IB2403.1/Gif7.7_5.gif\"\n",
    "\n",
    "# image_folder_path += \"7.3/Run 3 gif/*.png\"\n",
    "# plot_path = \"C:/Users/eivhe/OneDrive/NTNU/Prosjekt- og masteroppgave/Measurements/24.04.04_IB2403.1/Gif7.3_3.gif\"\n",
    "\n",
    "# image_folder_path += \"7.1/Run 2 gif/*.png\"\n",
    "# plot_path = \"C:/Users/eivhe/OneDrive/NTNU/Prosjekt- og masteroppgave/Measurements/24.04.04_IB2403.1/Gif7.1_2.gif\"\n",
    "\n",
    "# image_folder_path += \"7.8/Run 5 gif/*.png\"\n",
    "# plot_path = \"C:/Users/eivhe/OneDrive/NTNU/Prosjekt- og masteroppgave/Measurements/24.04.04_IB2403.1/Gif7.8_5.gif\"\n",
    "\n",
    "image_folder_path += \"6.7/Run 0/*.png\"\n",
    "plot_path = \"C:/Users/eivhe/OneDrive/NTNU/Prosjekt- og masteroppgave/Measurements/24.04.04_IB2403.1/Gif6.7_0.gif\"\n",
    "\n",
    "\n",
    "image_path_list = glob.glob(image_folder_path)\n",
    "print(image_path_list)\n",
    "\n",
    "image_array = []\n",
    "for path in image_path_list:\n",
    "    image = img.imread(path)\n",
    "    image_array.append(image) \n",
    "\n",
    "def update(i):\n",
    "    im.set_array(image_array[i])\n",
    "    return im, \n",
    "\n",
    "fig, ax = plt.subplots()\n",
    "shape = image_array[0].shape\n",
    "inches = 9.5\n",
    "inches_factor = inches/np.min(shape)\n",
    "fig.set_size_inches(shape[1]*inches_factor,shape[0]*inches_factor)\n",
    "ax.set_axis_off()\n",
    "fig.subplots_adjust(left=0, bottom=0, right=1, top=1)\n",
    "im = ax.imshow(image_array[0], cmap='Greys_r', animated=True) \n",
    "animation_fig = animation.FuncAnimation(fig, update, frames=len(image_array), interval=700, blit=True, repeat_delay=10,)\n",
    "animation_fig.save(plot_path)\n",
    "plt.close(fig)\n",
    "        "
   ]
  }
 ],
 "metadata": {
  "kernelspec": {
   "display_name": "Python 3",
   "language": "python",
   "name": "python3"
  },
  "language_info": {
   "codemirror_mode": {
    "name": "ipython",
    "version": 3
   },
   "file_extension": ".py",
   "mimetype": "text/x-python",
   "name": "python",
   "nbconvert_exporter": "python",
   "pygments_lexer": "ipython3",
   "version": "3.9.13"
  }
 },
 "nbformat": 4,
 "nbformat_minor": 2
}
